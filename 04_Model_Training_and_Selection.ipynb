{
 "cells": [
  {
   "cell_type": "markdown",
   "metadata": {},
   "source": [
    "### WBS Coding School\n",
    "___\n",
    "### --PROJECT--\n",
    "# Supervised Machine Learning\n",
    "### :: Regression: Housing prices\n",
    "\n",
    "- *01: Data Preparation and Exploration*\n",
    "- *02: Baseline Model*\n",
    "- *03: Feature Selection*\n",
    "- **04: Model Training and Selection**\n",
    "\n",
    "___"
   ]
  },
  {
   "cell_type": "markdown",
   "metadata": {},
   "source": [
    "# Model Training and Selection\n",
    "___\n",
    "\n",
    "In this script, we will deploy and compare a variety of different classification models and find each model's best set of hyper parameters."
   ]
  },
  {
   "cell_type": "markdown",
   "metadata": {},
   "source": [
    "## Table of contents:\n",
    "- [1 Models](#models)\n",
    "    - [1.1 Lazy Predict](#lazy)\n",
    "    - [1.2 XGB Regressor](#tree)\n",
    "    - [1.3 Gradient Boosting Regressor](#forest)\n",
    "    - [1.4 Poisson Regressor](#poisson)\n",
    "- [2 Model Selection](#selection)\n",
    "    - [2.1 Model Scores](#scores)\n",
    "    - [2.2 Voting Regressor](#voting)\n",
    "- [3 Make Prediction](#prediction)"
   ]
  },
  {
   "cell_type": "markdown",
   "metadata": {},
   "source": [
    "#### Import Libraries, Data & Preprocessing Pipeline"
   ]
  },
  {
   "cell_type": "code",
   "execution_count": 1,
   "metadata": {},
   "outputs": [],
   "source": [
    "import pandas as pd\n",
    "import joblib\n",
    "\n",
    "from lazypredict.Supervised import LazyRegressor\n",
    "\n",
    "from sklearn.model_selection import train_test_split\n",
    "from sklearn.feature_selection import RFECV\n",
    "\n",
    "from xgboost import XGBRegressor\n",
    "from sklearn.ensemble import GradientBoostingRegressor\n",
    "from sklearn.linear_model import PoissonRegressor\n",
    "from sklearn.tree import DecisionTreeRegressor\n",
    "\n",
    "from sklearn.pipeline import make_pipeline\n",
    "from sklearn.model_selection import GridSearchCV\n",
    "from sklearn.model_selection import RandomizedSearchCV\n",
    "\n",
    "from sklearn.ensemble import VotingRegressor\n",
    "from sklearn.model_selection import cross_val_score\n",
    "from sklearn.metrics import r2_score, mean_absolute_error, mean_squared_error, mean_absolute_percentage_error, mean_squared_log_error"
   ]
  },
  {
   "cell_type": "markdown",
   "metadata": {},
   "source": [
    "___\n",
    "<a id=\"selection\"></a>\n",
    "# 2&nbsp; Model Selection"
   ]
  },
  {
   "cell_type": "code",
   "execution_count": 2,
   "metadata": {},
   "outputs": [],
   "source": [
    "# Import the cleaned data\n",
    "housing_data = pd.read_csv(\"data/train_clean.csv\")\n",
    "\n",
    "# Import the preprocessing pipeline\n",
    "preprocessing_pipe = joblib.load('pipelines/preprocessing_pipe.joblib')"
   ]
  },
  {
   "cell_type": "markdown",
   "metadata": {},
   "source": [
    "#### Splitting"
   ]
  },
  {
   "cell_type": "code",
   "execution_count": 3,
   "metadata": {},
   "outputs": [],
   "source": [
    "# X and y creation\n",
    "X = housing_data\n",
    "y = X.pop(\"SalePrice\")\n",
    "\n",
    "# Data splitting\n",
    "X_train, X_test, y_train, y_test = train_test_split(\n",
    "    X, y, test_size=0.2, random_state=42\n",
    ")"
   ]
  },
  {
   "cell_type": "markdown",
   "metadata": {},
   "source": [
    "___\n",
    "<a id=\"models\"></a>\n",
    "# 1&nbsp; Models\n",
    "\n",
    "Here we'll first do a pre-selection of models using `lazypredict`, then we'll tune each of the best performing models one after another.\n",
    "\n",
    "But first, let's first initiate a dictionary in which we can store model scores for comparison and create two little helper functions for printing model performance.\n",
    "\n",
    "\n",
    "##### Note:\n",
    "For two reasons we're not using feature selectors such as the `RFECV` here.\n",
    "- First of all, runtimes go through the roof if we do.\n",
    "- Secondly, we did not find model performance to increase using `RFEC` or `ExtraTreesRegressor` selectors."
   ]
  },
  {
   "cell_type": "code",
   "execution_count": 4,
   "metadata": {},
   "outputs": [],
   "source": [
    "# Initiate dictionary for model scores\n",
    "model_scores = pd.DataFrame(\n",
    "    columns=[\"R2\", \"MAE\", \"MAPE\", \"MSE\", \"RMSE_log\"]\n",
    ")"
   ]
  },
  {
   "cell_type": "code",
   "execution_count": 5,
   "metadata": {},
   "outputs": [],
   "source": [
    "def get_model_metrics(model_name: str, y_true, y_pred):\n",
    "    metrics = pd.DataFrame({\n",
    "        \"R2\": r2_score(y_true, y_pred),\n",
    "        \"MAE\": mean_absolute_error(y_true, y_pred),\n",
    "        \"MAPE\": mean_absolute_percentage_error(y_true, y_pred),\n",
    "        \"MSE\": mean_squared_error(y_true, y_pred),\n",
    "        \"RMSE_log\": mean_squared_log_error(y_true, y_pred)\n",
    "    }, index=[model_name])\n",
    "    return metrics\n",
    "\n",
    "def print_best_parameters(grid_search_pipeline, X, y):\n",
    "    print(\"\\nRMSE_log: \", mean_squared_log_error(grid_search_pipeline.predict(X), y))\n",
    "    print(\"Best logreg parameters: \\n\", grid_search_pipeline.best_params_)"
   ]
  },
  {
   "cell_type": "markdown",
   "metadata": {},
   "source": [
    "<a id=\"lazy\"></a>\n",
    "### 1.1&nbsp; Lazy Predict\n",
    "\n",
    "We'll use `lazypredict` to find the set of best performing models for our task."
   ]
  },
  {
   "cell_type": "code",
   "execution_count": 6,
   "metadata": {},
   "outputs": [
    {
     "name": "stderr",
     "output_type": "stream",
     "text": [
      "  0%|          | 0/42 [00:00<?, ?it/s]"
     ]
    },
    {
     "name": "stderr",
     "output_type": "stream",
     "text": [
      " 98%|█████████▊| 41/42 [01:05<00:01,  1.55s/it]"
     ]
    },
    {
     "name": "stdout",
     "output_type": "stream",
     "text": [
      "[LightGBM] [Info] Auto-choosing row-wise multi-threading, the overhead of testing was 0.002273 seconds.\n",
      "You can set `force_row_wise=true` to remove the overhead.\n",
      "And if memory is not enough, you can set `force_col_wise=true`.\n",
      "[LightGBM] [Info] Total Bins 3220\n",
      "[LightGBM] [Info] Number of data points in the train set: 1168, number of used features: 162\n",
      "[LightGBM] [Info] Start training from score 181441.541952\n"
     ]
    },
    {
     "name": "stderr",
     "output_type": "stream",
     "text": [
      "100%|██████████| 42/42 [01:05<00:00,  1.56s/it]\n"
     ]
    }
   ],
   "source": [
    "lazy_regressor = LazyRegressor(verbose=0, ignore_warnings=False, custom_metric=None)\n",
    "models, predictions = lazy_regressor.fit(X_train, X_test, y_train, y_test)"
   ]
  },
  {
   "cell_type": "code",
   "execution_count": 7,
   "metadata": {},
   "outputs": [
    {
     "data": {
      "text/html": [
       "<div>\n",
       "<style scoped>\n",
       "    .dataframe tbody tr th:only-of-type {\n",
       "        vertical-align: middle;\n",
       "    }\n",
       "\n",
       "    .dataframe tbody tr th {\n",
       "        vertical-align: top;\n",
       "    }\n",
       "\n",
       "    .dataframe thead th {\n",
       "        text-align: right;\n",
       "    }\n",
       "</style>\n",
       "<table border=\"1\" class=\"dataframe\">\n",
       "  <thead>\n",
       "    <tr style=\"text-align: right;\">\n",
       "      <th></th>\n",
       "      <th>Adjusted R-Squared</th>\n",
       "      <th>R-Squared</th>\n",
       "      <th>RMSE</th>\n",
       "      <th>Time Taken</th>\n",
       "    </tr>\n",
       "    <tr>\n",
       "      <th>Model</th>\n",
       "      <th></th>\n",
       "      <th></th>\n",
       "      <th></th>\n",
       "      <th></th>\n",
       "    </tr>\n",
       "  </thead>\n",
       "  <tbody>\n",
       "    <tr>\n",
       "      <th>XGBRegressor</th>\n",
       "      <td>0.88</td>\n",
       "      <td>0.92</td>\n",
       "      <td>25516.91</td>\n",
       "      <td>0.36</td>\n",
       "    </tr>\n",
       "    <tr>\n",
       "      <th>GradientBoostingRegressor</th>\n",
       "      <td>0.87</td>\n",
       "      <td>0.90</td>\n",
       "      <td>27175.09</td>\n",
       "      <td>0.62</td>\n",
       "    </tr>\n",
       "    <tr>\n",
       "      <th>PoissonRegressor</th>\n",
       "      <td>0.86</td>\n",
       "      <td>0.90</td>\n",
       "      <td>28331.29</td>\n",
       "      <td>0.25</td>\n",
       "    </tr>\n",
       "    <tr>\n",
       "      <th>RandomForestRegressor</th>\n",
       "      <td>0.85</td>\n",
       "      <td>0.89</td>\n",
       "      <td>28541.71</td>\n",
       "      <td>1.51</td>\n",
       "    </tr>\n",
       "    <tr>\n",
       "      <th>HistGradientBoostingRegressor</th>\n",
       "      <td>0.85</td>\n",
       "      <td>0.89</td>\n",
       "      <td>28592.04</td>\n",
       "      <td>0.65</td>\n",
       "    </tr>\n",
       "  </tbody>\n",
       "</table>\n",
       "</div>"
      ],
      "text/plain": [
       "                               Adjusted R-Squared  R-Squared     RMSE  \\\n",
       "Model                                                                   \n",
       "XGBRegressor                                 0.88       0.92 25516.91   \n",
       "GradientBoostingRegressor                    0.87       0.90 27175.09   \n",
       "PoissonRegressor                             0.86       0.90 28331.29   \n",
       "RandomForestRegressor                        0.85       0.89 28541.71   \n",
       "HistGradientBoostingRegressor                0.85       0.89 28592.04   \n",
       "\n",
       "                               Time Taken  \n",
       "Model                                      \n",
       "XGBRegressor                         0.36  \n",
       "GradientBoostingRegressor            0.62  \n",
       "PoissonRegressor                     0.25  \n",
       "RandomForestRegressor                1.51  \n",
       "HistGradientBoostingRegressor        0.65  "
      ]
     },
     "execution_count": 7,
     "metadata": {},
     "output_type": "execute_result"
    }
   ],
   "source": [
    "# The five models with the lowest RMSE:\n",
    "models.nsmallest(5, columns=\"RMSE\")"
   ]
  },
  {
   "cell_type": "markdown",
   "metadata": {},
   "source": [
    "The best 3 models are XGBoosted Trees, Gradient Boosting and a Poisson Model. Each of them has an R^2 >= 0.9. \n",
    "\n",
    "Let's see if we can further tune their performance."
   ]
  },
  {
   "cell_type": "markdown",
   "metadata": {},
   "source": [
    "<a id=\"xgb\"></a>\n",
    "### 1.2&nbsp; XGB Regressor"
   ]
  },
  {
   "cell_type": "markdown",
   "metadata": {},
   "source": [
    "The kaggle challenge requires the root mean squared log, therefore we use `scoring=\"neg_mean_squared_log_error\"` for the Randomized Search."
   ]
  },
  {
   "cell_type": "code",
   "execution_count": 8,
   "metadata": {},
   "outputs": [
    {
     "name": "stdout",
     "output_type": "stream",
     "text": [
      "Fitting 5 folds for each of 20 candidates, totalling 100 fits\n",
      "\n",
      "RMSE_log:  0.019571415107297825\n",
      "Best logreg parameters: \n",
      " {'xgbregressor__n_estimators': 100, 'xgbregressor__max_leaves': 9, 'xgbregressor__max_depth': 7, 'xgbregressor__learning_rate': 0.2}\n"
     ]
    }
   ],
   "source": [
    "# Make pipeline\n",
    "xgb_pipeline = make_pipeline(\n",
    "    preprocessing_pipe,\n",
    "    XGBRegressor()\n",
    ")\n",
    "\n",
    "# Perform hyper parameter search\n",
    "param_grid_xgb = {\n",
    "    \"xgbregressor__n_estimators\": [50, 100, 150, 200],\n",
    "    \"xgbregressor__max_depth\": range(3, 12, 2),\n",
    "    \"xgbregressor__max_leaves\": range(5, 20, 4),\n",
    "    \"xgbregressor__learning_rate\": [0.001, 0.01, 0.1, 0.2]\n",
    "}\n",
    "xgb_search = RandomizedSearchCV(\n",
    "    xgb_pipeline,\n",
    "    param_grid_xgb,\n",
    "    scoring=\"neg_mean_squared_log_error\",\n",
    "    n_iter=20, cv=5, verbose=1)\n",
    "\n",
    "xgb_search.fit(X_train, y_train)\n",
    "\n",
    "# Model performance\n",
    "xgb_performance = get_model_metrics(\"XGB\", y_test, xgb_search.predict(X_test))\n",
    "model_scores = pd.concat([model_scores, xgb_performance])\n",
    "\n",
    "print_best_parameters(xgb_search, X_test, y_test)"
   ]
  },
  {
   "cell_type": "markdown",
   "metadata": {},
   "source": [
    "<a id=\"gradient\"></a>\n",
    "### 1.3&nbsp; Gradient Boosting Regressor"
   ]
  },
  {
   "cell_type": "code",
   "execution_count": 9,
   "metadata": {},
   "outputs": [
    {
     "name": "stdout",
     "output_type": "stream",
     "text": [
      "Fitting 5 folds for each of 20 candidates, totalling 100 fits\n",
      "\n",
      "RMSE_log:  0.015388725753474447\n",
      "Best logreg parameters: \n",
      " {'gradientboostingregressor__subsample': 0.8, 'gradientboostingregressor__n_estimators': 450, 'gradientboostingregressor__loss': 'huber', 'gradientboostingregressor__learning_rate': 0.1}\n"
     ]
    }
   ],
   "source": [
    "# Make pipeline\n",
    "gradboost_pipeline = make_pipeline(\n",
    "    preprocessing_pipe,\n",
    "    GradientBoostingRegressor()\n",
    ")\n",
    "\n",
    "# Perform hyper parameter search\n",
    "param_grid_gradboost = {\n",
    "    \"gradientboostingregressor__loss\": [\"squared_error\", \"absolute_error\", \"huber\", \"quantile\"],\n",
    "    \"gradientboostingregressor__learning_rate\": [0.001, 0.01, 0.1, 0.2],\n",
    "    \"gradientboostingregressor__n_estimators\": range(50, 500, 50),\n",
    "    \"gradientboostingregressor__subsample\": [0.0, 0.2, 0.4, 0.6, 0.8, 1.0]\n",
    "}\n",
    "gradboost_search = RandomizedSearchCV(\n",
    "    gradboost_pipeline,\n",
    "    param_grid_gradboost,\n",
    "    scoring=\"neg_mean_squared_log_error\",\n",
    "    n_iter=20, cv=5, verbose=1)\n",
    "\n",
    "gradboost_search.fit(X_train, y_train)\n",
    "\n",
    "# Model performance\n",
    "gradboost_performance = get_model_metrics(\"Gradient Boosting\", y_test, gradboost_search.predict(X_test))\n",
    "model_scores = pd.concat([model_scores, gradboost_performance])\n",
    "print_best_parameters(gradboost_search, X_test, y_test)"
   ]
  },
  {
   "cell_type": "markdown",
   "metadata": {},
   "source": [
    "<a id=\"poisson\"></a>\n",
    "### 1.4&nbsp; Poisson Regressor"
   ]
  },
  {
   "cell_type": "code",
   "execution_count": 10,
   "metadata": {},
   "outputs": [
    {
     "name": "stdout",
     "output_type": "stream",
     "text": [
      "Fitting 5 folds for each of 20 candidates, totalling 100 fits\n",
      "\n",
      "RMSE_log:  0.022652463618808415\n",
      "Best logreg parameters: \n",
      " {'poissonregressor__tol': 1, 'poissonregressor__solver': 'lbfgs', 'poissonregressor__max_iter': 50, 'poissonregressor__fit_intercept': True}\n"
     ]
    }
   ],
   "source": [
    "# Make pipeline\n",
    "poisson_pipeline = make_pipeline(\n",
    "    preprocessing_pipe,\n",
    "    PoissonRegressor()\n",
    ")\n",
    "\n",
    "# Perform hyper parameter search\n",
    "param_grid_poisson = {\n",
    "    \"poissonregressor__solver\": [\"lbfgs\", \"newton-cholesky\"],\n",
    "    \"poissonregressor__max_iter\": range(50, 500, 50),\n",
    "    \"poissonregressor__fit_intercept\": [True, False],\n",
    "    \"poissonregressor__tol\": [0.0001, 0.001, 0.01, 0.1, 1, 10, 100] \n",
    "}\n",
    "poisson_search = RandomizedSearchCV(\n",
    "    poisson_pipeline,\n",
    "    param_grid_poisson,\n",
    "    scoring=\"neg_mean_squared_log_error\",\n",
    "    n_iter=20, cv=5, verbose=1)\n",
    "\n",
    "poisson_search.fit(X_train, y_train)\n",
    "\n",
    "# Model performance\n",
    "poisson_performance = get_model_metrics(\"Poisson\", y_test, poisson_search.predict(X_test))\n",
    "model_scores = pd.concat([model_scores, poisson_performance])\n",
    "print_best_parameters(poisson_search, X_test, y_test)"
   ]
  },
  {
   "cell_type": "markdown",
   "metadata": {},
   "source": [
    "___\n",
    "<a id=\"selection\"></a>\n",
    "# 2&nbsp; Model Selection"
   ]
  },
  {
   "cell_type": "markdown",
   "metadata": {},
   "source": [
    "<a id=\"scores\"></a>\n",
    "### 2.1&nbsp; Model Scores"
   ]
  },
  {
   "cell_type": "code",
   "execution_count": 11,
   "metadata": {},
   "outputs": [
    {
     "data": {
      "text/html": [
       "<div>\n",
       "<style scoped>\n",
       "    .dataframe tbody tr th:only-of-type {\n",
       "        vertical-align: middle;\n",
       "    }\n",
       "\n",
       "    .dataframe tbody tr th {\n",
       "        vertical-align: top;\n",
       "    }\n",
       "\n",
       "    .dataframe thead th {\n",
       "        text-align: right;\n",
       "    }\n",
       "</style>\n",
       "<table border=\"1\" class=\"dataframe\">\n",
       "  <thead>\n",
       "    <tr style=\"text-align: right;\">\n",
       "      <th></th>\n",
       "      <th>R2</th>\n",
       "      <th>MAE</th>\n",
       "      <th>MAPE</th>\n",
       "      <th>MSE</th>\n",
       "      <th>RMSE_log</th>\n",
       "    </tr>\n",
       "  </thead>\n",
       "  <tbody>\n",
       "    <tr>\n",
       "      <th>Gradient Boosting</th>\n",
       "      <td>0.91</td>\n",
       "      <td>15349.17</td>\n",
       "      <td>0.09</td>\n",
       "      <td>691187334.36</td>\n",
       "      <td>0.02</td>\n",
       "    </tr>\n",
       "    <tr>\n",
       "      <th>XGB</th>\n",
       "      <td>0.91</td>\n",
       "      <td>16229.09</td>\n",
       "      <td>0.10</td>\n",
       "      <td>659603587.79</td>\n",
       "      <td>0.02</td>\n",
       "    </tr>\n",
       "    <tr>\n",
       "      <th>Poisson</th>\n",
       "      <td>0.91</td>\n",
       "      <td>17028.93</td>\n",
       "      <td>0.11</td>\n",
       "      <td>686603628.92</td>\n",
       "      <td>0.02</td>\n",
       "    </tr>\n",
       "  </tbody>\n",
       "</table>\n",
       "</div>"
      ],
      "text/plain": [
       "                    R2      MAE  MAPE          MSE  RMSE_log\n",
       "Gradient Boosting 0.91 15349.17  0.09 691187334.36      0.02\n",
       "XGB               0.91 16229.09  0.10 659603587.79      0.02\n",
       "Poisson           0.91 17028.93  0.11 686603628.92      0.02"
      ]
     },
     "execution_count": 11,
     "metadata": {},
     "output_type": "execute_result"
    }
   ],
   "source": [
    "model_scores.sort_values(\"RMSE_log\")"
   ]
  },
  {
   "cell_type": "markdown",
   "metadata": {},
   "source": [
    "According to the test accuracies in `model_scores`, the best performing models were the Logistic Regression, the Random Forest, the Support Vector Machine and the XGBoost models. \n",
    "\n",
    "When sorting by the root mean squared log (RMSE_log), the Gradient Boosting model performs slightly better than the rest."
   ]
  },
  {
   "cell_type": "markdown",
   "metadata": {},
   "source": [
    "<a id=\"voting\"></a>\n",
    "### 2.2&nbsp; Voting Regressor\n",
    "\n",
    "Choose the best performing models and use them with a [VotingRegressor](https://scikit-learn.org/stable/modules/generated/sklearn.ensemble.VotingRegressor.html#sklearn.ensemble.VotingRegressor) to potentially further increase performance."
   ]
  },
  {
   "cell_type": "code",
   "execution_count": 12,
   "metadata": {},
   "outputs": [
    {
     "data": {
      "text/html": [
       "<style>#sk-container-id-1 {color: black;}#sk-container-id-1 pre{padding: 0;}#sk-container-id-1 div.sk-toggleable {background-color: white;}#sk-container-id-1 label.sk-toggleable__label {cursor: pointer;display: block;width: 100%;margin-bottom: 0;padding: 0.3em;box-sizing: border-box;text-align: center;}#sk-container-id-1 label.sk-toggleable__label-arrow:before {content: \"▸\";float: left;margin-right: 0.25em;color: #696969;}#sk-container-id-1 label.sk-toggleable__label-arrow:hover:before {color: black;}#sk-container-id-1 div.sk-estimator:hover label.sk-toggleable__label-arrow:before {color: black;}#sk-container-id-1 div.sk-toggleable__content {max-height: 0;max-width: 0;overflow: hidden;text-align: left;background-color: #f0f8ff;}#sk-container-id-1 div.sk-toggleable__content pre {margin: 0.2em;color: black;border-radius: 0.25em;background-color: #f0f8ff;}#sk-container-id-1 input.sk-toggleable__control:checked~div.sk-toggleable__content {max-height: 200px;max-width: 100%;overflow: auto;}#sk-container-id-1 input.sk-toggleable__control:checked~label.sk-toggleable__label-arrow:before {content: \"▾\";}#sk-container-id-1 div.sk-estimator input.sk-toggleable__control:checked~label.sk-toggleable__label {background-color: #d4ebff;}#sk-container-id-1 div.sk-label input.sk-toggleable__control:checked~label.sk-toggleable__label {background-color: #d4ebff;}#sk-container-id-1 input.sk-hidden--visually {border: 0;clip: rect(1px 1px 1px 1px);clip: rect(1px, 1px, 1px, 1px);height: 1px;margin: -1px;overflow: hidden;padding: 0;position: absolute;width: 1px;}#sk-container-id-1 div.sk-estimator {font-family: monospace;background-color: #f0f8ff;border: 1px dotted black;border-radius: 0.25em;box-sizing: border-box;margin-bottom: 0.5em;}#sk-container-id-1 div.sk-estimator:hover {background-color: #d4ebff;}#sk-container-id-1 div.sk-parallel-item::after {content: \"\";width: 100%;border-bottom: 1px solid gray;flex-grow: 1;}#sk-container-id-1 div.sk-label:hover label.sk-toggleable__label {background-color: #d4ebff;}#sk-container-id-1 div.sk-serial::before {content: \"\";position: absolute;border-left: 1px solid gray;box-sizing: border-box;top: 0;bottom: 0;left: 50%;z-index: 0;}#sk-container-id-1 div.sk-serial {display: flex;flex-direction: column;align-items: center;background-color: white;padding-right: 0.2em;padding-left: 0.2em;position: relative;}#sk-container-id-1 div.sk-item {position: relative;z-index: 1;}#sk-container-id-1 div.sk-parallel {display: flex;align-items: stretch;justify-content: center;background-color: white;position: relative;}#sk-container-id-1 div.sk-item::before, #sk-container-id-1 div.sk-parallel-item::before {content: \"\";position: absolute;border-left: 1px solid gray;box-sizing: border-box;top: 0;bottom: 0;left: 50%;z-index: -1;}#sk-container-id-1 div.sk-parallel-item {display: flex;flex-direction: column;z-index: 1;position: relative;background-color: white;}#sk-container-id-1 div.sk-parallel-item:first-child::after {align-self: flex-end;width: 50%;}#sk-container-id-1 div.sk-parallel-item:last-child::after {align-self: flex-start;width: 50%;}#sk-container-id-1 div.sk-parallel-item:only-child::after {width: 0;}#sk-container-id-1 div.sk-dashed-wrapped {border: 1px dashed gray;margin: 0 0.4em 0.5em 0.4em;box-sizing: border-box;padding-bottom: 0.4em;background-color: white;}#sk-container-id-1 div.sk-label label {font-family: monospace;font-weight: bold;display: inline-block;line-height: 1.2em;}#sk-container-id-1 div.sk-label-container {text-align: center;}#sk-container-id-1 div.sk-container {/* jupyter's `normalize.less` sets `[hidden] { display: none; }` but bootstrap.min.css set `[hidden] { display: none !important; }` so we also need the `!important` here to be able to override the default hidden behavior on the sphinx rendered scikit-learn.org. See: https://github.com/scikit-learn/scikit-learn/issues/21755 */display: inline-block !important;position: relative;}#sk-container-id-1 div.sk-text-repr-fallback {display: none;}</style><div id=\"sk-container-id-1\" class=\"sk-top-container\"><div class=\"sk-text-repr-fallback\"><pre>VotingRegressor(estimators=[(&#x27;XGB&#x27;,\n",
       "                             XGBRegressor(base_score=None, booster=None,\n",
       "                                          callbacks=None,\n",
       "                                          colsample_bylevel=None,\n",
       "                                          colsample_bynode=None,\n",
       "                                          colsample_bytree=None, device=None,\n",
       "                                          early_stopping_rounds=None,\n",
       "                                          enable_categorical=False,\n",
       "                                          eval_metric=None, feature_types=None,\n",
       "                                          gamma=None, grow_policy=None,\n",
       "                                          importance_type=None,\n",
       "                                          interaction_constraints=None,\n",
       "                                          learning_rate...\n",
       "                                          max_cat_to_onehot=None,\n",
       "                                          max_delta_step=None, max_depth=11,\n",
       "                                          max_leaves=9, min_child_weight=None,\n",
       "                                          missing=nan,\n",
       "                                          monotone_constraints=None,\n",
       "                                          multi_strategy=None, n_estimators=200,\n",
       "                                          n_jobs=None, num_parallel_tree=None,\n",
       "                                          random_state=None, ...)),\n",
       "                            (&#x27;GradientBoosting&#x27;,\n",
       "                             GradientBoostingRegressor(loss=&#x27;huber&#x27;,\n",
       "                                                       n_estimators=250,\n",
       "                                                       subsample=0.8)),\n",
       "                            (&#x27;Poisson&#x27;, PoissonRegressor(max_iter=50))])</pre><b>In a Jupyter environment, please rerun this cell to show the HTML representation or trust the notebook. <br />On GitHub, the HTML representation is unable to render, please try loading this page with nbviewer.org.</b></div><div class=\"sk-container\" hidden><div class=\"sk-item sk-dashed-wrapped\"><div class=\"sk-label-container\"><div class=\"sk-label sk-toggleable\"><input class=\"sk-toggleable__control sk-hidden--visually\" id=\"sk-estimator-id-1\" type=\"checkbox\" ><label for=\"sk-estimator-id-1\" class=\"sk-toggleable__label sk-toggleable__label-arrow\">VotingRegressor</label><div class=\"sk-toggleable__content\"><pre>VotingRegressor(estimators=[(&#x27;XGB&#x27;,\n",
       "                             XGBRegressor(base_score=None, booster=None,\n",
       "                                          callbacks=None,\n",
       "                                          colsample_bylevel=None,\n",
       "                                          colsample_bynode=None,\n",
       "                                          colsample_bytree=None, device=None,\n",
       "                                          early_stopping_rounds=None,\n",
       "                                          enable_categorical=False,\n",
       "                                          eval_metric=None, feature_types=None,\n",
       "                                          gamma=None, grow_policy=None,\n",
       "                                          importance_type=None,\n",
       "                                          interaction_constraints=None,\n",
       "                                          learning_rate...\n",
       "                                          max_cat_to_onehot=None,\n",
       "                                          max_delta_step=None, max_depth=11,\n",
       "                                          max_leaves=9, min_child_weight=None,\n",
       "                                          missing=nan,\n",
       "                                          monotone_constraints=None,\n",
       "                                          multi_strategy=None, n_estimators=200,\n",
       "                                          n_jobs=None, num_parallel_tree=None,\n",
       "                                          random_state=None, ...)),\n",
       "                            (&#x27;GradientBoosting&#x27;,\n",
       "                             GradientBoostingRegressor(loss=&#x27;huber&#x27;,\n",
       "                                                       n_estimators=250,\n",
       "                                                       subsample=0.8)),\n",
       "                            (&#x27;Poisson&#x27;, PoissonRegressor(max_iter=50))])</pre></div></div></div><div class=\"sk-parallel\"><div class=\"sk-parallel-item\"><div class=\"sk-item\"><div class=\"sk-label-container\"><div class=\"sk-label sk-toggleable\"><label>XGB</label></div></div><div class=\"sk-serial\"><div class=\"sk-item\"><div class=\"sk-estimator sk-toggleable\"><input class=\"sk-toggleable__control sk-hidden--visually\" id=\"sk-estimator-id-2\" type=\"checkbox\" ><label for=\"sk-estimator-id-2\" class=\"sk-toggleable__label sk-toggleable__label-arrow\">XGBRegressor</label><div class=\"sk-toggleable__content\"><pre>XGBRegressor(base_score=None, booster=None, callbacks=None,\n",
       "             colsample_bylevel=None, colsample_bynode=None,\n",
       "             colsample_bytree=None, device=None, early_stopping_rounds=None,\n",
       "             enable_categorical=False, eval_metric=None, feature_types=None,\n",
       "             gamma=None, grow_policy=None, importance_type=None,\n",
       "             interaction_constraints=None, learning_rate=0.1, max_bin=None,\n",
       "             max_cat_threshold=None, max_cat_to_onehot=None,\n",
       "             max_delta_step=None, max_depth=11, max_leaves=9,\n",
       "             min_child_weight=None, missing=nan, monotone_constraints=None,\n",
       "             multi_strategy=None, n_estimators=200, n_jobs=None,\n",
       "             num_parallel_tree=None, random_state=None, ...)</pre></div></div></div></div></div></div><div class=\"sk-parallel-item\"><div class=\"sk-item\"><div class=\"sk-label-container\"><div class=\"sk-label sk-toggleable\"><label>GradientBoosting</label></div></div><div class=\"sk-serial\"><div class=\"sk-item\"><div class=\"sk-estimator sk-toggleable\"><input class=\"sk-toggleable__control sk-hidden--visually\" id=\"sk-estimator-id-3\" type=\"checkbox\" ><label for=\"sk-estimator-id-3\" class=\"sk-toggleable__label sk-toggleable__label-arrow\">GradientBoostingRegressor</label><div class=\"sk-toggleable__content\"><pre>GradientBoostingRegressor(loss=&#x27;huber&#x27;, n_estimators=250, subsample=0.8)</pre></div></div></div></div></div></div><div class=\"sk-parallel-item\"><div class=\"sk-item\"><div class=\"sk-label-container\"><div class=\"sk-label sk-toggleable\"><label>Poisson</label></div></div><div class=\"sk-serial\"><div class=\"sk-item\"><div class=\"sk-estimator sk-toggleable\"><input class=\"sk-toggleable__control sk-hidden--visually\" id=\"sk-estimator-id-4\" type=\"checkbox\" ><label for=\"sk-estimator-id-4\" class=\"sk-toggleable__label sk-toggleable__label-arrow\">PoissonRegressor</label><div class=\"sk-toggleable__content\"><pre>PoissonRegressor(max_iter=50)</pre></div></div></div></div></div></div></div></div></div></div>"
      ],
      "text/plain": [
       "VotingRegressor(estimators=[('XGB',\n",
       "                             XGBRegressor(base_score=None, booster=None,\n",
       "                                          callbacks=None,\n",
       "                                          colsample_bylevel=None,\n",
       "                                          colsample_bynode=None,\n",
       "                                          colsample_bytree=None, device=None,\n",
       "                                          early_stopping_rounds=None,\n",
       "                                          enable_categorical=False,\n",
       "                                          eval_metric=None, feature_types=None,\n",
       "                                          gamma=None, grow_policy=None,\n",
       "                                          importance_type=None,\n",
       "                                          interaction_constraints=None,\n",
       "                                          learning_rate...\n",
       "                                          max_cat_to_onehot=None,\n",
       "                                          max_delta_step=None, max_depth=11,\n",
       "                                          max_leaves=9, min_child_weight=None,\n",
       "                                          missing=nan,\n",
       "                                          monotone_constraints=None,\n",
       "                                          multi_strategy=None, n_estimators=200,\n",
       "                                          n_jobs=None, num_parallel_tree=None,\n",
       "                                          random_state=None, ...)),\n",
       "                            ('GradientBoosting',\n",
       "                             GradientBoostingRegressor(loss='huber',\n",
       "                                                       n_estimators=250,\n",
       "                                                       subsample=0.8)),\n",
       "                            ('Poisson', PoissonRegressor(max_iter=50))])"
      ]
     },
     "execution_count": 12,
     "metadata": {},
     "output_type": "execute_result"
    }
   ],
   "source": [
    "# Re-establish the best regressors\n",
    "model_xgb = XGBRegressor(n_estimators=200, max_leaves=9, max_depth=11, learning_rate=0.1)\n",
    "model_gradboost = GradientBoostingRegressor(subsample=0.8, n_estimators=250, loss='huber', learning_rate=0.1)\n",
    "model_poisson = PoissonRegressor(tol=0.0001, solver='lbfgs', max_iter=50, fit_intercept=True)\n",
    "# Take the best performing hyperparameters from the GridSearches above\n",
    "\n",
    "# Create the voting regressor\n",
    "voting_regressor = VotingRegressor(\n",
    "    estimators=[\n",
    "        ('XGB', model_xgb), \n",
    "        ('GradientBoosting', model_gradboost),\n",
    "        ('Poisson', model_poisson)])\n",
    "\n",
    "# Preprocessing pipeline + voting regressor\n",
    "full_pipe_voting = make_pipeline(\n",
    "    preprocessing_pipe,\n",
    "    voting_regressor)\n",
    "\n",
    "full_pipe_voting.fit(X_train, y_train)"
   ]
  },
  {
   "cell_type": "code",
   "execution_count": 14,
   "metadata": {},
   "outputs": [
    {
     "name": "stdout",
     "output_type": "stream",
     "text": [
      "Accuracy: 0.837 (+/- 0.045) [XGB]\n",
      "Accuracy: 0.842 (+/- 0.037) [GradientBoosting]\n",
      "Accuracy: 0.854 (+/- 0.052) [Poisson]\n",
      "Accuracy: 0.865 (+/- 0.033) [Ensemble]\n"
     ]
    }
   ],
   "source": [
    "# Estimate test accuracies\n",
    "for regressor, label in zip(\n",
    "    [model_xgb, model_gradboost, model_poisson, voting_regressor], \n",
    "    ['XGB', 'GradientBoosting', 'Poisson', 'Ensemble']):\n",
    "    \n",
    "    # Full pipeline: preprocessor + regressor\n",
    "    full_pipe = make_pipeline(\n",
    "        preprocessing_pipe,\n",
    "        regressor)\n",
    "    \n",
    "    # Fit models & calculate test accuracies\n",
    "    scores = cross_val_score(full_pipe, X_test, y_test, cv=5)\n",
    "    print(\"Accuracy: %0.3f (+/- %0.3f) [%s]\" % (scores.mean(), scores.std(), label))"
   ]
  },
  {
   "cell_type": "markdown",
   "metadata": {},
   "source": [
    "The Voting Regressor has a slightly worse performance than the single regressors. Too bad! \n",
    "\n",
    "We'll use the **Gradient Boosting model** then, as this one performed best during training."
   ]
  },
  {
   "cell_type": "markdown",
   "metadata": {},
   "source": [
    "___\n",
    "<a id=\"prediction\"></a>\n",
    "# 3&nbsp; Make Prediction"
   ]
  },
  {
   "cell_type": "markdown",
   "metadata": {},
   "source": [
    "#### Train model on complete train dataset\n",
    "\n",
    "Note that in Section 2 we used `RandomSearchCV` to speed things up. Here we use `GridSearchCV` to find the optimal hyper parameters. \n",
    "\n",
    "Also note that in this section we use the complete dataset (`X` and `y`) to train the model. We do not have to tune hyper parameters any longer and want to go for the final, best model version. We'll use that best version to make a prediction on the validation dataset from Kaggle."
   ]
  },
  {
   "cell_type": "code",
   "execution_count": 17,
   "metadata": {},
   "outputs": [
    {
     "name": "stdout",
     "output_type": "stream",
     "text": [
      "Fitting 5 folds for each of 864 candidates, totalling 4320 fits\n"
     ]
    },
    {
     "data": {
      "text/html": [
       "<style>#sk-container-id-3 {color: black;}#sk-container-id-3 pre{padding: 0;}#sk-container-id-3 div.sk-toggleable {background-color: white;}#sk-container-id-3 label.sk-toggleable__label {cursor: pointer;display: block;width: 100%;margin-bottom: 0;padding: 0.3em;box-sizing: border-box;text-align: center;}#sk-container-id-3 label.sk-toggleable__label-arrow:before {content: \"▸\";float: left;margin-right: 0.25em;color: #696969;}#sk-container-id-3 label.sk-toggleable__label-arrow:hover:before {color: black;}#sk-container-id-3 div.sk-estimator:hover label.sk-toggleable__label-arrow:before {color: black;}#sk-container-id-3 div.sk-toggleable__content {max-height: 0;max-width: 0;overflow: hidden;text-align: left;background-color: #f0f8ff;}#sk-container-id-3 div.sk-toggleable__content pre {margin: 0.2em;color: black;border-radius: 0.25em;background-color: #f0f8ff;}#sk-container-id-3 input.sk-toggleable__control:checked~div.sk-toggleable__content {max-height: 200px;max-width: 100%;overflow: auto;}#sk-container-id-3 input.sk-toggleable__control:checked~label.sk-toggleable__label-arrow:before {content: \"▾\";}#sk-container-id-3 div.sk-estimator input.sk-toggleable__control:checked~label.sk-toggleable__label {background-color: #d4ebff;}#sk-container-id-3 div.sk-label input.sk-toggleable__control:checked~label.sk-toggleable__label {background-color: #d4ebff;}#sk-container-id-3 input.sk-hidden--visually {border: 0;clip: rect(1px 1px 1px 1px);clip: rect(1px, 1px, 1px, 1px);height: 1px;margin: -1px;overflow: hidden;padding: 0;position: absolute;width: 1px;}#sk-container-id-3 div.sk-estimator {font-family: monospace;background-color: #f0f8ff;border: 1px dotted black;border-radius: 0.25em;box-sizing: border-box;margin-bottom: 0.5em;}#sk-container-id-3 div.sk-estimator:hover {background-color: #d4ebff;}#sk-container-id-3 div.sk-parallel-item::after {content: \"\";width: 100%;border-bottom: 1px solid gray;flex-grow: 1;}#sk-container-id-3 div.sk-label:hover label.sk-toggleable__label {background-color: #d4ebff;}#sk-container-id-3 div.sk-serial::before {content: \"\";position: absolute;border-left: 1px solid gray;box-sizing: border-box;top: 0;bottom: 0;left: 50%;z-index: 0;}#sk-container-id-3 div.sk-serial {display: flex;flex-direction: column;align-items: center;background-color: white;padding-right: 0.2em;padding-left: 0.2em;position: relative;}#sk-container-id-3 div.sk-item {position: relative;z-index: 1;}#sk-container-id-3 div.sk-parallel {display: flex;align-items: stretch;justify-content: center;background-color: white;position: relative;}#sk-container-id-3 div.sk-item::before, #sk-container-id-3 div.sk-parallel-item::before {content: \"\";position: absolute;border-left: 1px solid gray;box-sizing: border-box;top: 0;bottom: 0;left: 50%;z-index: -1;}#sk-container-id-3 div.sk-parallel-item {display: flex;flex-direction: column;z-index: 1;position: relative;background-color: white;}#sk-container-id-3 div.sk-parallel-item:first-child::after {align-self: flex-end;width: 50%;}#sk-container-id-3 div.sk-parallel-item:last-child::after {align-self: flex-start;width: 50%;}#sk-container-id-3 div.sk-parallel-item:only-child::after {width: 0;}#sk-container-id-3 div.sk-dashed-wrapped {border: 1px dashed gray;margin: 0 0.4em 0.5em 0.4em;box-sizing: border-box;padding-bottom: 0.4em;background-color: white;}#sk-container-id-3 div.sk-label label {font-family: monospace;font-weight: bold;display: inline-block;line-height: 1.2em;}#sk-container-id-3 div.sk-label-container {text-align: center;}#sk-container-id-3 div.sk-container {/* jupyter's `normalize.less` sets `[hidden] { display: none; }` but bootstrap.min.css set `[hidden] { display: none !important; }` so we also need the `!important` here to be able to override the default hidden behavior on the sphinx rendered scikit-learn.org. See: https://github.com/scikit-learn/scikit-learn/issues/21755 */display: inline-block !important;position: relative;}#sk-container-id-3 div.sk-text-repr-fallback {display: none;}</style><div id=\"sk-container-id-3\" class=\"sk-top-container\"><div class=\"sk-text-repr-fallback\"><pre>GridSearchCV(cv=5,\n",
       "             estimator=Pipeline(steps=[(&#x27;columntransformer&#x27;,\n",
       "                                        ColumnTransformer(transformers=[(&#x27;num_pipe&#x27;,\n",
       "                                                                         Pipeline(steps=[(&#x27;simpleimputer&#x27;,\n",
       "                                                                                          SimpleImputer(strategy=&#x27;median&#x27;)),\n",
       "                                                                                         (&#x27;standardscaler&#x27;,\n",
       "                                                                                          StandardScaler())]),\n",
       "                                                                         Index([&#x27;MSSubClass&#x27;, &#x27;LotFrontage&#x27;, &#x27;LotArea&#x27;, &#x27;OverallQual&#x27;, &#x27;OverallCond&#x27;,\n",
       "       &#x27;YearBuilt&#x27;, &#x27;YearRemodAdd&#x27;, &#x27;MasVnrArea&#x27;, &#x27;BsmtFinSF1&#x27;, &#x27;BsmtFinSF2...\n",
       "                                        GradientBoostingRegressor())]),\n",
       "             param_grid={&#x27;gradientboostingregressor__learning_rate&#x27;: [0.001,\n",
       "                                                                      0.01, 0.1,\n",
       "                                                                      0.2],\n",
       "                         &#x27;gradientboostingregressor__loss&#x27;: [&#x27;squared_error&#x27;,\n",
       "                                                             &#x27;absolute_error&#x27;,\n",
       "                                                             &#x27;huber&#x27;,\n",
       "                                                             &#x27;quantile&#x27;],\n",
       "                         &#x27;gradientboostingregressor__n_estimators&#x27;: range(50, 500, 50),\n",
       "                         &#x27;gradientboostingregressor__subsample&#x27;: [0.0, 0.2, 0.4,\n",
       "                                                                  0.6, 0.8,\n",
       "                                                                  1.0]},\n",
       "             scoring=&#x27;neg_mean_squared_log_error&#x27;, verbose=1)</pre><b>In a Jupyter environment, please rerun this cell to show the HTML representation or trust the notebook. <br />On GitHub, the HTML representation is unable to render, please try loading this page with nbviewer.org.</b></div><div class=\"sk-container\" hidden><div class=\"sk-item sk-dashed-wrapped\"><div class=\"sk-label-container\"><div class=\"sk-label sk-toggleable\"><input class=\"sk-toggleable__control sk-hidden--visually\" id=\"sk-estimator-id-21\" type=\"checkbox\" ><label for=\"sk-estimator-id-21\" class=\"sk-toggleable__label sk-toggleable__label-arrow\">GridSearchCV</label><div class=\"sk-toggleable__content\"><pre>GridSearchCV(cv=5,\n",
       "             estimator=Pipeline(steps=[(&#x27;columntransformer&#x27;,\n",
       "                                        ColumnTransformer(transformers=[(&#x27;num_pipe&#x27;,\n",
       "                                                                         Pipeline(steps=[(&#x27;simpleimputer&#x27;,\n",
       "                                                                                          SimpleImputer(strategy=&#x27;median&#x27;)),\n",
       "                                                                                         (&#x27;standardscaler&#x27;,\n",
       "                                                                                          StandardScaler())]),\n",
       "                                                                         Index([&#x27;MSSubClass&#x27;, &#x27;LotFrontage&#x27;, &#x27;LotArea&#x27;, &#x27;OverallQual&#x27;, &#x27;OverallCond&#x27;,\n",
       "       &#x27;YearBuilt&#x27;, &#x27;YearRemodAdd&#x27;, &#x27;MasVnrArea&#x27;, &#x27;BsmtFinSF1&#x27;, &#x27;BsmtFinSF2...\n",
       "                                        GradientBoostingRegressor())]),\n",
       "             param_grid={&#x27;gradientboostingregressor__learning_rate&#x27;: [0.001,\n",
       "                                                                      0.01, 0.1,\n",
       "                                                                      0.2],\n",
       "                         &#x27;gradientboostingregressor__loss&#x27;: [&#x27;squared_error&#x27;,\n",
       "                                                             &#x27;absolute_error&#x27;,\n",
       "                                                             &#x27;huber&#x27;,\n",
       "                                                             &#x27;quantile&#x27;],\n",
       "                         &#x27;gradientboostingregressor__n_estimators&#x27;: range(50, 500, 50),\n",
       "                         &#x27;gradientboostingregressor__subsample&#x27;: [0.0, 0.2, 0.4,\n",
       "                                                                  0.6, 0.8,\n",
       "                                                                  1.0]},\n",
       "             scoring=&#x27;neg_mean_squared_log_error&#x27;, verbose=1)</pre></div></div></div><div class=\"sk-parallel\"><div class=\"sk-parallel-item\"><div class=\"sk-item\"><div class=\"sk-label-container\"><div class=\"sk-label sk-toggleable\"><input class=\"sk-toggleable__control sk-hidden--visually\" id=\"sk-estimator-id-22\" type=\"checkbox\" ><label for=\"sk-estimator-id-22\" class=\"sk-toggleable__label sk-toggleable__label-arrow\">estimator: Pipeline</label><div class=\"sk-toggleable__content\"><pre>Pipeline(steps=[(&#x27;columntransformer&#x27;,\n",
       "                 ColumnTransformer(transformers=[(&#x27;num_pipe&#x27;,\n",
       "                                                  Pipeline(steps=[(&#x27;simpleimputer&#x27;,\n",
       "                                                                   SimpleImputer(strategy=&#x27;median&#x27;)),\n",
       "                                                                  (&#x27;standardscaler&#x27;,\n",
       "                                                                   StandardScaler())]),\n",
       "                                                  Index([&#x27;MSSubClass&#x27;, &#x27;LotFrontage&#x27;, &#x27;LotArea&#x27;, &#x27;OverallQual&#x27;, &#x27;OverallCond&#x27;,\n",
       "       &#x27;YearBuilt&#x27;, &#x27;YearRemodAdd&#x27;, &#x27;MasVnrArea&#x27;, &#x27;BsmtFinSF1&#x27;, &#x27;BsmtFinSF2&#x27;,\n",
       "       &#x27;BsmtUnfSF&#x27;, &#x27;TotalBsmtSF&#x27;,...\n",
       "       &#x27;BsmtQual&#x27;, &#x27;BsmtCond&#x27;, &#x27;BsmtExposure&#x27;, &#x27;BsmtFinType1&#x27;, &#x27;BsmtFinType2&#x27;,\n",
       "       &#x27;Heating&#x27;, &#x27;HeatingQC&#x27;, &#x27;CentralAir&#x27;, &#x27;Electrical&#x27;, &#x27;KitchenQual&#x27;,\n",
       "       &#x27;Functional&#x27;, &#x27;FireplaceQu&#x27;, &#x27;GarageType&#x27;, &#x27;GarageFinish&#x27;, &#x27;GarageQual&#x27;,\n",
       "       &#x27;GarageCond&#x27;, &#x27;PavedDrive&#x27;, &#x27;PoolQC&#x27;, &#x27;Fence&#x27;, &#x27;MiscFeature&#x27;,\n",
       "       &#x27;SaleType&#x27;, &#x27;SaleCondition&#x27;],\n",
       "      dtype=&#x27;object&#x27;))])),\n",
       "                (&#x27;gradientboostingregressor&#x27;, GradientBoostingRegressor())])</pre></div></div></div><div class=\"sk-serial\"><div class=\"sk-item\"><div class=\"sk-serial\"><div class=\"sk-item sk-dashed-wrapped\"><div class=\"sk-label-container\"><div class=\"sk-label sk-toggleable\"><input class=\"sk-toggleable__control sk-hidden--visually\" id=\"sk-estimator-id-23\" type=\"checkbox\" ><label for=\"sk-estimator-id-23\" class=\"sk-toggleable__label sk-toggleable__label-arrow\">columntransformer: ColumnTransformer</label><div class=\"sk-toggleable__content\"><pre>ColumnTransformer(transformers=[(&#x27;num_pipe&#x27;,\n",
       "                                 Pipeline(steps=[(&#x27;simpleimputer&#x27;,\n",
       "                                                  SimpleImputer(strategy=&#x27;median&#x27;)),\n",
       "                                                 (&#x27;standardscaler&#x27;,\n",
       "                                                  StandardScaler())]),\n",
       "                                 Index([&#x27;MSSubClass&#x27;, &#x27;LotFrontage&#x27;, &#x27;LotArea&#x27;, &#x27;OverallQual&#x27;, &#x27;OverallCond&#x27;,\n",
       "       &#x27;YearBuilt&#x27;, &#x27;YearRemodAdd&#x27;, &#x27;MasVnrArea&#x27;, &#x27;BsmtFinSF1&#x27;, &#x27;BsmtFinSF2&#x27;,\n",
       "       &#x27;BsmtUnfSF&#x27;, &#x27;TotalBsmtSF&#x27;, &#x27;1stFlrSF&#x27;, &#x27;2ndFlrSF&#x27;, &#x27;LowQualFinSF&#x27;,...\n",
       "       &#x27;Exterior2nd&#x27;, &#x27;MasVnrType&#x27;, &#x27;ExterQual&#x27;, &#x27;ExterCond&#x27;, &#x27;Foundation&#x27;,\n",
       "       &#x27;BsmtQual&#x27;, &#x27;BsmtCond&#x27;, &#x27;BsmtExposure&#x27;, &#x27;BsmtFinType1&#x27;, &#x27;BsmtFinType2&#x27;,\n",
       "       &#x27;Heating&#x27;, &#x27;HeatingQC&#x27;, &#x27;CentralAir&#x27;, &#x27;Electrical&#x27;, &#x27;KitchenQual&#x27;,\n",
       "       &#x27;Functional&#x27;, &#x27;FireplaceQu&#x27;, &#x27;GarageType&#x27;, &#x27;GarageFinish&#x27;, &#x27;GarageQual&#x27;,\n",
       "       &#x27;GarageCond&#x27;, &#x27;PavedDrive&#x27;, &#x27;PoolQC&#x27;, &#x27;Fence&#x27;, &#x27;MiscFeature&#x27;,\n",
       "       &#x27;SaleType&#x27;, &#x27;SaleCondition&#x27;],\n",
       "      dtype=&#x27;object&#x27;))])</pre></div></div></div><div class=\"sk-parallel\"><div class=\"sk-parallel-item\"><div class=\"sk-item\"><div class=\"sk-label-container\"><div class=\"sk-label sk-toggleable\"><input class=\"sk-toggleable__control sk-hidden--visually\" id=\"sk-estimator-id-24\" type=\"checkbox\" ><label for=\"sk-estimator-id-24\" class=\"sk-toggleable__label sk-toggleable__label-arrow\">num_pipe</label><div class=\"sk-toggleable__content\"><pre>Index([&#x27;MSSubClass&#x27;, &#x27;LotFrontage&#x27;, &#x27;LotArea&#x27;, &#x27;OverallQual&#x27;, &#x27;OverallCond&#x27;,\n",
       "       &#x27;YearBuilt&#x27;, &#x27;YearRemodAdd&#x27;, &#x27;MasVnrArea&#x27;, &#x27;BsmtFinSF1&#x27;, &#x27;BsmtFinSF2&#x27;,\n",
       "       &#x27;BsmtUnfSF&#x27;, &#x27;TotalBsmtSF&#x27;, &#x27;1stFlrSF&#x27;, &#x27;2ndFlrSF&#x27;, &#x27;LowQualFinSF&#x27;,\n",
       "       &#x27;GrLivArea&#x27;, &#x27;BsmtFullBath&#x27;, &#x27;BsmtHalfBath&#x27;, &#x27;FullBath&#x27;, &#x27;HalfBath&#x27;,\n",
       "       &#x27;BedroomAbvGr&#x27;, &#x27;KitchenAbvGr&#x27;, &#x27;TotRmsAbvGrd&#x27;, &#x27;Fireplaces&#x27;,\n",
       "       &#x27;GarageYrBlt&#x27;, &#x27;GarageCars&#x27;, &#x27;GarageArea&#x27;, &#x27;WoodDeckSF&#x27;, &#x27;OpenPorchSF&#x27;,\n",
       "       &#x27;EnclosedPorch&#x27;, &#x27;3SsnPorch&#x27;, &#x27;ScreenPorch&#x27;, &#x27;PoolArea&#x27;, &#x27;MiscVal&#x27;,\n",
       "       &#x27;MoSold&#x27;, &#x27;YrSold&#x27;],\n",
       "      dtype=&#x27;object&#x27;)</pre></div></div></div><div class=\"sk-serial\"><div class=\"sk-item\"><div class=\"sk-serial\"><div class=\"sk-item\"><div class=\"sk-estimator sk-toggleable\"><input class=\"sk-toggleable__control sk-hidden--visually\" id=\"sk-estimator-id-25\" type=\"checkbox\" ><label for=\"sk-estimator-id-25\" class=\"sk-toggleable__label sk-toggleable__label-arrow\">SimpleImputer</label><div class=\"sk-toggleable__content\"><pre>SimpleImputer(strategy=&#x27;median&#x27;)</pre></div></div></div><div class=\"sk-item\"><div class=\"sk-estimator sk-toggleable\"><input class=\"sk-toggleable__control sk-hidden--visually\" id=\"sk-estimator-id-26\" type=\"checkbox\" ><label for=\"sk-estimator-id-26\" class=\"sk-toggleable__label sk-toggleable__label-arrow\">StandardScaler</label><div class=\"sk-toggleable__content\"><pre>StandardScaler()</pre></div></div></div></div></div></div></div></div><div class=\"sk-parallel-item\"><div class=\"sk-item\"><div class=\"sk-label-container\"><div class=\"sk-label sk-toggleable\"><input class=\"sk-toggleable__control sk-hidden--visually\" id=\"sk-estimator-id-27\" type=\"checkbox\" ><label for=\"sk-estimator-id-27\" class=\"sk-toggleable__label sk-toggleable__label-arrow\">cat_pipe</label><div class=\"sk-toggleable__content\"><pre>Index([&#x27;MSZoning&#x27;, &#x27;Street&#x27;, &#x27;Alley&#x27;, &#x27;LotShape&#x27;, &#x27;LandContour&#x27;, &#x27;Utilities&#x27;,\n",
       "       &#x27;LotConfig&#x27;, &#x27;LandSlope&#x27;, &#x27;Neighborhood&#x27;, &#x27;Condition1&#x27;, &#x27;Condition2&#x27;,\n",
       "       &#x27;BldgType&#x27;, &#x27;HouseStyle&#x27;, &#x27;RoofStyle&#x27;, &#x27;RoofMatl&#x27;, &#x27;Exterior1st&#x27;,\n",
       "       &#x27;Exterior2nd&#x27;, &#x27;MasVnrType&#x27;, &#x27;ExterQual&#x27;, &#x27;ExterCond&#x27;, &#x27;Foundation&#x27;,\n",
       "       &#x27;BsmtQual&#x27;, &#x27;BsmtCond&#x27;, &#x27;BsmtExposure&#x27;, &#x27;BsmtFinType1&#x27;, &#x27;BsmtFinType2&#x27;,\n",
       "       &#x27;Heating&#x27;, &#x27;HeatingQC&#x27;, &#x27;CentralAir&#x27;, &#x27;Electrical&#x27;, &#x27;KitchenQual&#x27;,\n",
       "       &#x27;Functional&#x27;, &#x27;FireplaceQu&#x27;, &#x27;GarageType&#x27;, &#x27;GarageFinish&#x27;, &#x27;GarageQual&#x27;,\n",
       "       &#x27;GarageCond&#x27;, &#x27;PavedDrive&#x27;, &#x27;PoolQC&#x27;, &#x27;Fence&#x27;, &#x27;MiscFeature&#x27;,\n",
       "       &#x27;SaleType&#x27;, &#x27;SaleCondition&#x27;],\n",
       "      dtype=&#x27;object&#x27;)</pre></div></div></div><div class=\"sk-serial\"><div class=\"sk-item\"><div class=\"sk-serial\"><div class=\"sk-item\"><div class=\"sk-estimator sk-toggleable\"><input class=\"sk-toggleable__control sk-hidden--visually\" id=\"sk-estimator-id-28\" type=\"checkbox\" ><label for=\"sk-estimator-id-28\" class=\"sk-toggleable__label sk-toggleable__label-arrow\">SimpleImputer</label><div class=\"sk-toggleable__content\"><pre>SimpleImputer(fill_value=&#x27;NA&#x27;, strategy=&#x27;constant&#x27;)</pre></div></div></div><div class=\"sk-item sk-dashed-wrapped\"><div class=\"sk-label-container\"><div class=\"sk-label sk-toggleable\"><input class=\"sk-toggleable__control sk-hidden--visually\" id=\"sk-estimator-id-29\" type=\"checkbox\" ><label for=\"sk-estimator-id-29\" class=\"sk-toggleable__label sk-toggleable__label-arrow\">columntransformer: ColumnTransformer</label><div class=\"sk-toggleable__content\"><pre>ColumnTransformer(transformers=[(&#x27;cat_nominal&#x27;,\n",
       "                                 OneHotEncoder(handle_unknown=&#x27;ignore&#x27;),\n",
       "                                 array([11,  9, 10, 15, 16, 20, 33, 26,  6, 17,  0,  8, 13,  1])),\n",
       "                                (&#x27;cat_ordinal&#x27;,\n",
       "                                 OrdinalEncoder(categories=[[&#x27;NA&#x27;, &#x27;Grvl&#x27;,\n",
       "                                                             &#x27;Pave&#x27;],\n",
       "                                                            [&#x27;NA&#x27;, &#x27;Po&#x27;, &#x27;Fa&#x27;,\n",
       "                                                             &#x27;TA&#x27;, &#x27;Gd&#x27;, &#x27;Ex&#x27;],\n",
       "                                                            [&#x27;NA&#x27;, &#x27;No&#x27;, &#x27;Mn&#x27;,\n",
       "                                                             &#x27;Av&#x27;, &#x27;Gd&#x27;],\n",
       "                                                            [&#x27;NA&#x27;, &#x27;Unf&#x27;, &#x27;LwQ&#x27;,\n",
       "                                                             &#x27;Rec&#x27;, &#x27;BLQ&#x27;,\n",
       "                                                             &#x27;ALQ&#x27;, &#x27;GLQ&#x27;],\n",
       "                                                            [&#x27;NA&#x27;, &#x27;Unf&#x27;, &#x27;LwQ&#x27;,\n",
       "                                                             &#x27;Rec&#x27;, &#x27;BLQ&#x27;,\n",
       "                                                             &#x27;ALQ&#x27;, &#x27;GLQ&#x27;],\n",
       "                                                            [&#x27;NA&#x27;, &#x27;Fa...\n",
       "                                                             &#x27;Metal&#x27;, &#x27;Membran&#x27;,\n",
       "                                                             &#x27;CompShg&#x27;,\n",
       "                                                             &#x27;ClyTile&#x27;],\n",
       "                                                            [&#x27;NA&#x27;, &#x27;Partial&#x27;,\n",
       "                                                             &#x27;Family&#x27;, &#x27;Alloca&#x27;,\n",
       "                                                             &#x27;AdjLand&#x27;,\n",
       "                                                             &#x27;Abnorml&#x27;,\n",
       "                                                             &#x27;Normal&#x27;],\n",
       "                                                            [&#x27;NA&#x27;, &#x27;WD&#x27;, &#x27;CWD&#x27;,\n",
       "                                                             &#x27;VWD&#x27;, &#x27;New&#x27;,\n",
       "                                                             &#x27;COD&#x27;, &#x27;Con&#x27;,\n",
       "                                                             &#x27;ConLw&#x27;, &#x27;ConLI&#x27;,\n",
       "                                                             &#x27;ConLD&#x27;, &#x27;Oth&#x27;],\n",
       "                                                            [&#x27;NA&#x27;, &#x27;ELO&#x27;,\n",
       "                                                             &#x27;NoSeWa&#x27;, &#x27;NoSewr&#x27;,\n",
       "                                                             &#x27;AllPub&#x27;]],\n",
       "                                                handle_unknown=&#x27;use_encoded_value&#x27;,\n",
       "                                                unknown_value=nan),\n",
       "                                 array([ 2, 22, 23, 24, 25, 21, 28, 19, 18, 29, 39, 32, 31, 36, 34, 35, 27,\n",
       "       12, 30,  4,  7,  3, 40, 37, 38, 14, 42, 41,  5]))])</pre></div></div></div><div class=\"sk-parallel\"><div class=\"sk-parallel-item\"><div class=\"sk-item\"><div class=\"sk-label-container\"><div class=\"sk-label sk-toggleable\"><input class=\"sk-toggleable__control sk-hidden--visually\" id=\"sk-estimator-id-30\" type=\"checkbox\" ><label for=\"sk-estimator-id-30\" class=\"sk-toggleable__label sk-toggleable__label-arrow\">cat_nominal</label><div class=\"sk-toggleable__content\"><pre>[11  9 10 15 16 20 33 26  6 17  0  8 13  1]</pre></div></div></div><div class=\"sk-serial\"><div class=\"sk-item\"><div class=\"sk-estimator sk-toggleable\"><input class=\"sk-toggleable__control sk-hidden--visually\" id=\"sk-estimator-id-31\" type=\"checkbox\" ><label for=\"sk-estimator-id-31\" class=\"sk-toggleable__label sk-toggleable__label-arrow\">OneHotEncoder</label><div class=\"sk-toggleable__content\"><pre>OneHotEncoder(handle_unknown=&#x27;ignore&#x27;)</pre></div></div></div></div></div></div><div class=\"sk-parallel-item\"><div class=\"sk-item\"><div class=\"sk-label-container\"><div class=\"sk-label sk-toggleable\"><input class=\"sk-toggleable__control sk-hidden--visually\" id=\"sk-estimator-id-32\" type=\"checkbox\" ><label for=\"sk-estimator-id-32\" class=\"sk-toggleable__label sk-toggleable__label-arrow\">cat_ordinal</label><div class=\"sk-toggleable__content\"><pre>[ 2 22 23 24 25 21 28 19 18 29 39 32 31 36 34 35 27 12 30  4  7  3 40 37\n",
       " 38 14 42 41  5]</pre></div></div></div><div class=\"sk-serial\"><div class=\"sk-item\"><div class=\"sk-estimator sk-toggleable\"><input class=\"sk-toggleable__control sk-hidden--visually\" id=\"sk-estimator-id-33\" type=\"checkbox\" ><label for=\"sk-estimator-id-33\" class=\"sk-toggleable__label sk-toggleable__label-arrow\">OrdinalEncoder</label><div class=\"sk-toggleable__content\"><pre>OrdinalEncoder(categories=[[&#x27;NA&#x27;, &#x27;Grvl&#x27;, &#x27;Pave&#x27;],\n",
       "                           [&#x27;NA&#x27;, &#x27;Po&#x27;, &#x27;Fa&#x27;, &#x27;TA&#x27;, &#x27;Gd&#x27;, &#x27;Ex&#x27;],\n",
       "                           [&#x27;NA&#x27;, &#x27;No&#x27;, &#x27;Mn&#x27;, &#x27;Av&#x27;, &#x27;Gd&#x27;],\n",
       "                           [&#x27;NA&#x27;, &#x27;Unf&#x27;, &#x27;LwQ&#x27;, &#x27;Rec&#x27;, &#x27;BLQ&#x27;, &#x27;ALQ&#x27;, &#x27;GLQ&#x27;],\n",
       "                           [&#x27;NA&#x27;, &#x27;Unf&#x27;, &#x27;LwQ&#x27;, &#x27;Rec&#x27;, &#x27;BLQ&#x27;, &#x27;ALQ&#x27;, &#x27;GLQ&#x27;],\n",
       "                           [&#x27;NA&#x27;, &#x27;Fa&#x27;, &#x27;TA&#x27;, &#x27;Gd&#x27;, &#x27;Ex&#x27;], [&#x27;NA&#x27;, &#x27;N&#x27;, &#x27;Y&#x27;],\n",
       "                           [&#x27;NA&#x27;, &#x27;Po&#x27;, &#x27;Fa&#x27;, &#x27;TA&#x27;, &#x27;Gd&#x27;, &#x27;Ex&#x27;],\n",
       "                           [&#x27;NA&#x27;, &#x27;Po&#x27;, &#x27;Fa&#x27;, &#x27;TA&#x27;, &#x27;Gd&#x27;, &#x27;Ex&#x27;],\n",
       "                           [&#x27;NA&#x27;, &#x27;Mix&#x27;, &#x27;FuseP&#x27;, &#x27;FuseF&#x27;, &#x27;FuseA&#x27;, &#x27;SBrkr&#x27;],\n",
       "                           [&#x27;NA&#x27;,...\n",
       "                           [&#x27;NA&#x27;, &#x27;N&#x27;, &#x27;P&#x27;, &#x27;Y&#x27;],\n",
       "                           [&#x27;NA&#x27;, &#x27;Po&#x27;, &#x27;Fa&#x27;, &#x27;TA&#x27;, &#x27;Gd&#x27;, &#x27;Ex&#x27;],\n",
       "                           [&#x27;NA&#x27;, &#x27;WdShngl&#x27;, &#x27;WdShake&#x27;, &#x27;Tar&amp;Grv&#x27;, &#x27;Roll&#x27;,\n",
       "                            &#x27;Metal&#x27;, &#x27;Membran&#x27;, &#x27;CompShg&#x27;, &#x27;ClyTile&#x27;],\n",
       "                           [&#x27;NA&#x27;, &#x27;Partial&#x27;, &#x27;Family&#x27;, &#x27;Alloca&#x27;, &#x27;AdjLand&#x27;,\n",
       "                            &#x27;Abnorml&#x27;, &#x27;Normal&#x27;],\n",
       "                           [&#x27;NA&#x27;, &#x27;WD&#x27;, &#x27;CWD&#x27;, &#x27;VWD&#x27;, &#x27;New&#x27;, &#x27;COD&#x27;, &#x27;Con&#x27;,\n",
       "                            &#x27;ConLw&#x27;, &#x27;ConLI&#x27;, &#x27;ConLD&#x27;, &#x27;Oth&#x27;],\n",
       "                           [&#x27;NA&#x27;, &#x27;ELO&#x27;, &#x27;NoSeWa&#x27;, &#x27;NoSewr&#x27;, &#x27;AllPub&#x27;]],\n",
       "               handle_unknown=&#x27;use_encoded_value&#x27;, unknown_value=nan)</pre></div></div></div></div></div></div></div></div></div></div></div></div></div></div></div><div class=\"sk-item\"><div class=\"sk-estimator sk-toggleable\"><input class=\"sk-toggleable__control sk-hidden--visually\" id=\"sk-estimator-id-34\" type=\"checkbox\" ><label for=\"sk-estimator-id-34\" class=\"sk-toggleable__label sk-toggleable__label-arrow\">GradientBoostingRegressor</label><div class=\"sk-toggleable__content\"><pre>GradientBoostingRegressor()</pre></div></div></div></div></div></div></div></div></div></div></div></div>"
      ],
      "text/plain": [
       "GridSearchCV(cv=5,\n",
       "             estimator=Pipeline(steps=[('columntransformer',\n",
       "                                        ColumnTransformer(transformers=[('num_pipe',\n",
       "                                                                         Pipeline(steps=[('simpleimputer',\n",
       "                                                                                          SimpleImputer(strategy='median')),\n",
       "                                                                                         ('standardscaler',\n",
       "                                                                                          StandardScaler())]),\n",
       "                                                                         Index(['MSSubClass', 'LotFrontage', 'LotArea', 'OverallQual', 'OverallCond',\n",
       "       'YearBuilt', 'YearRemodAdd', 'MasVnrArea', 'BsmtFinSF1', 'BsmtFinSF2...\n",
       "                                        GradientBoostingRegressor())]),\n",
       "             param_grid={'gradientboostingregressor__learning_rate': [0.001,\n",
       "                                                                      0.01, 0.1,\n",
       "                                                                      0.2],\n",
       "                         'gradientboostingregressor__loss': ['squared_error',\n",
       "                                                             'absolute_error',\n",
       "                                                             'huber',\n",
       "                                                             'quantile'],\n",
       "                         'gradientboostingregressor__n_estimators': range(50, 500, 50),\n",
       "                         'gradientboostingregressor__subsample': [0.0, 0.2, 0.4,\n",
       "                                                                  0.6, 0.8,\n",
       "                                                                  1.0]},\n",
       "             scoring='neg_mean_squared_log_error', verbose=1)"
      ]
     },
     "execution_count": 17,
     "metadata": {},
     "output_type": "execute_result"
    }
   ],
   "source": [
    "# Make pipeline\n",
    "gradboost_pipeline = make_pipeline(\n",
    "    preprocessing_pipe,\n",
    "    GradientBoostingRegressor()\n",
    ")\n",
    "\n",
    "# Perform hyper parameter search\n",
    "param_grid_gradboost = {\n",
    "    \"gradientboostingregressor__loss\": [\"squared_error\", \"absolute_error\", \"huber\", \"quantile\"],\n",
    "    \"gradientboostingregressor__learning_rate\": [0.001, 0.01, 0.1, 0.2],\n",
    "    \"gradientboostingregressor__n_estimators\": range(50, 500, 50),\n",
    "    \"gradientboostingregressor__subsample\": [0.0, 0.2, 0.4, 0.6, 0.8, 1.0]\n",
    "}\n",
    "gradboost_search = GridSearchCV(\n",
    "    gradboost_pipeline,\n",
    "    param_grid_gradboost,\n",
    "    scoring=\"neg_mean_squared_log_error\",\n",
    "    cv=5, verbose=1)\n",
    "\n",
    "gradboost_search.fit(X, y) # use the whole dataset"
   ]
  },
  {
   "cell_type": "code",
   "execution_count": 18,
   "metadata": {},
   "outputs": [
    {
     "name": "stdout",
     "output_type": "stream",
     "text": [
      "\n",
      "RMSE_log:  0.004069175223334085\n",
      "Best logreg parameters: \n",
      " {'gradientboostingregressor__learning_rate': 0.1, 'gradientboostingregressor__loss': 'huber', 'gradientboostingregressor__n_estimators': 350, 'gradientboostingregressor__subsample': 1.0}\n"
     ]
    },
    {
     "data": {
      "text/html": [
       "<div>\n",
       "<style scoped>\n",
       "    .dataframe tbody tr th:only-of-type {\n",
       "        vertical-align: middle;\n",
       "    }\n",
       "\n",
       "    .dataframe tbody tr th {\n",
       "        vertical-align: top;\n",
       "    }\n",
       "\n",
       "    .dataframe thead th {\n",
       "        text-align: right;\n",
       "    }\n",
       "</style>\n",
       "<table border=\"1\" class=\"dataframe\">\n",
       "  <thead>\n",
       "    <tr style=\"text-align: right;\">\n",
       "      <th></th>\n",
       "      <th>R2</th>\n",
       "      <th>MAE</th>\n",
       "      <th>MAPE</th>\n",
       "      <th>MSE</th>\n",
       "      <th>RMSE_log</th>\n",
       "    </tr>\n",
       "  </thead>\n",
       "  <tbody>\n",
       "    <tr>\n",
       "      <th>Gradient Boosting</th>\n",
       "      <td>0.98</td>\n",
       "      <td>7329.62</td>\n",
       "      <td>0.04</td>\n",
       "      <td>164279200.11</td>\n",
       "      <td>0.00</td>\n",
       "    </tr>\n",
       "  </tbody>\n",
       "</table>\n",
       "</div>"
      ],
      "text/plain": [
       "                    R2     MAE  MAPE          MSE  RMSE_log\n",
       "Gradient Boosting 0.98 7329.62  0.04 164279200.11      0.00"
      ]
     },
     "execution_count": 18,
     "metadata": {},
     "output_type": "execute_result"
    }
   ],
   "source": [
    "# Model performance\n",
    "print_best_parameters(gradboost_search, X_test, y_test)\n",
    "get_model_metrics(\"Gradient Boosting\", y_test, gradboost_search.predict(X_test))"
   ]
  },
  {
   "cell_type": "markdown",
   "metadata": {},
   "source": [
    "#### Read in test data"
   ]
  },
  {
   "cell_type": "code",
   "execution_count": 19,
   "metadata": {},
   "outputs": [
    {
     "data": {
      "text/plain": [
       "True"
      ]
     },
     "execution_count": 19,
     "metadata": {},
     "output_type": "execute_result"
    }
   ],
   "source": [
    "X_val = pd.read_csv(\"data/test.csv\")\n",
    "IDs = X_val.pop(\"Id\") # The ID column is for identifying the predicted labels\n",
    "\n",
    "# Are the columns the same as in the train/test sets?\n",
    "set(X_val.columns) == set(X_train.columns) == set(X_test.columns)"
   ]
  },
  {
   "cell_type": "markdown",
   "metadata": {},
   "source": [
    "#### Make prediction"
   ]
  },
  {
   "cell_type": "code",
   "execution_count": 20,
   "metadata": {},
   "outputs": [
    {
     "name": "stdout",
     "output_type": "stream",
     "text": [
      "True\n"
     ]
    }
   ],
   "source": [
    "# Predict labels of validation set\n",
    "price_predictions = gradboost_search.predict(X_val)\n",
    "\n",
    "predicted_labels = pd.DataFrame({\n",
    "    \"Id\": IDs,\n",
    "    \"SalePrice\": price_predictions\n",
    "})\n",
    "\n",
    "# Equal length of dataset and predictions?\n",
    "print(predicted_labels.shape[0] == X_val.shape[0])\n",
    "\n",
    "# Export predicted labels with their IDs\n",
    "predicted_labels.to_csv(\"data/submission.csv\", index=False)"
   ]
  },
  {
   "cell_type": "markdown",
   "metadata": {},
   "source": [
    "When uploading our `submission.csv` file based on the `GradientBoostingRegressor` to the Kaggle competition page, we got a public score of 0.13378. That's place 1384 out of roughly 5000 competitors. \n",
    "\n",
    "A submission using the `XGBRegressor` in a similar manner got us a public score of 0.13143, ranking place 1213 on the leaderboard.\n",
    "\n",
    "Not bad!"
   ]
  }
 ],
 "metadata": {
  "kernelspec": {
   "display_name": "base",
   "language": "python",
   "name": "python3"
  },
  "language_info": {
   "codemirror_mode": {
    "name": "ipython",
    "version": 3
   },
   "file_extension": ".py",
   "mimetype": "text/x-python",
   "name": "python",
   "nbconvert_exporter": "python",
   "pygments_lexer": "ipython3",
   "version": "3.11.4"
  }
 },
 "nbformat": 4,
 "nbformat_minor": 2
}
